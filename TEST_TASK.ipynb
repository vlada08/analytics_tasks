{
  "nbformat": 4,
  "nbformat_minor": 0,
  "metadata": {
    "colab": {
      "provenance": [],
      "collapsed_sections": [],
      "authorship_tag": "ABX9TyMQcCttWm9xJlolyqnE6WRi",
      "include_colab_link": true
    },
    "kernelspec": {
      "name": "python3",
      "display_name": "Python 3"
    },
    "language_info": {
      "name": "python"
    }
  },
  "cells": [
    {
      "cell_type": "markdown",
      "metadata": {
        "id": "view-in-github",
        "colab_type": "text"
      },
      "source": [
        "<a href=\"https://colab.research.google.com/github/vlada08/analytics_tasks/blob/master/TEST_TASK.ipynb\" target=\"_parent\"><img src=\"https://colab.research.google.com/assets/colab-badge.svg\" alt=\"Open In Colab\"/></a>"
      ]
    },
    {
      "cell_type": "markdown",
      "source": [
        "Documents loading process.\n"
      ],
      "metadata": {
        "id": "uDDVNNaehmiu"
      }
    },
    {
      "cell_type": "code",
      "source": [],
      "metadata": {
        "id": "xepUtGQGhrwu"
      },
      "execution_count": null,
      "outputs": []
    }
  ]
}